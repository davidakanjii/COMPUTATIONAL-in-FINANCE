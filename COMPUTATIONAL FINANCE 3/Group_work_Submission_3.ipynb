{
 "cells": [
  {
   "cell_type": "markdown",
   "metadata": {
    "id": "AzegH2QepIe5"
   },
   "source": [
    "# Group Work Submission 3 : Simulate Asset Price Evolutions and Reprice Risky up-and-out Call Option\n",
    "\n",
    "## Team Members Name.\n",
    "\n",
    "- Xin He (xinhe9701@gmail.com)\n",
    "- Ali Kone (ali.kone18@rotman.utoronto.ca)\n",
    "- David Akanji (david.o.akanji@gmail.com)\n",
    "\n"
   ]
  },
  {
   "cell_type": "code",
   "execution_count": 1,
   "metadata": {
    "id": "kxPAM0XXpIe_"
   },
   "outputs": [],
   "source": [
    "import numpy as np\n",
    "import pandas as pd\n",
    "from scipy import stats\n",
    "from scipy.stats import norm\n",
    "import scipy.optimize\n",
    "import math\n",
    "import warnings\n",
    "warnings.filterwarnings(\"ignore\", category=RuntimeWarning) \n",
    "import matplotlib.pyplot as plt\n",
    "%matplotlib inline"
   ]
  },
  {
   "cell_type": "markdown",
   "metadata": {
    "id": "391X2UvUpIfA"
   },
   "source": [
    "# Question 1\n",
    "\n",
    "\n",
    "\n",
    "##### Initializing the Parameters"
   ]
  },
  {
   "cell_type": "code",
   "execution_count": 2,
   "metadata": {
    "id": "z6BBrQFupIfA"
   },
   "outputs": [],
   "source": [
    "T = 1 # option maturity\n",
    "L = 150 # up-and-out barrier\n",
    "S0 = 100 # current share price\n",
    "K = 100 # strike price, at-the-money\n",
    "v_0 = 200 # counterparty firm current value\n",
    "debt = 175 # counterparty's debt, due in one year \n",
    "corr = .2 # correlation\n",
    "recovery_rate = 0.25 # recovery rate\n",
    "corr_matrix = np.array([[1, corr], [corr, 1]])\n",
    "sample_size = 1000000\n",
    "sigma_const = 0.30\n",
    "gamma = 0.75"
   ]
  },
  {
   "cell_type": "markdown",
   "metadata": {
    "id": "Md4pWA6CpIfB"
   },
   "source": [
    "\n",
    "#### 1.1 Calibrating LIBOR foward rate model using the Zero Coupon Bond\n",
    "\n",
    "We would start by initilizing the given zero coupon bond price, and then went on by creating a function that will calculate the simulated bond prices from the Vasicek model."
   ]
  },
  {
   "cell_type": "code",
   "execution_count": 3,
   "metadata": {
    "id": "28Q4d9gtpIfB"
   },
   "outputs": [],
   "source": [
    "t = np.linspace(0,1,13)\n",
    "\n",
    "market_zcb_prices = np.array([1.0, 0.9938, 0.9876, 0.9815, 0.9754, 0.9694, 0.9634, 0.9574, 0.9516,\n",
    "       0.9457, 0.9399, 0.9342, 0.9285])"
   ]
  },
  {
   "cell_type": "markdown",
   "metadata": {
    "id": "5Hf_ULWEpIfB"
   },
   "source": [
    "Also we define the helper function A and D as well as function F which measures the differences between the calculated bond price from our model and the zero coupon prices of the actual market."
   ]
  },
  {
   "cell_type": "code",
   "execution_count": 4,
   "metadata": {
    "id": "CwZmjKIRpIfC"
   },
   "outputs": [],
   "source": [
    "def A(t1, t2, alpha):\n",
    "    return (1-np.exp(-alpha*(t2-t1)))/alpha\n",
    "\n",
    "\n",
    "def D(t1, t2, alpha, b, sigma):\n",
    "    val1 = (t2-t1-A(t1,t2,alpha))*(sigma**2/(2*alpha**2)-b)\n",
    "    val2 = sigma**2*A(t1,t2,alpha)**2/(4*alpha)\n",
    "    return val1-val2\n",
    "\n",
    "def bond_price_fun(r,t,T, alpha, b, sigma):\n",
    "    return np.exp(-A(t,T,alpha)*r+D(t,T,alpha,b,sigma))\n",
    "\n",
    "\n",
    "def F(x):\n",
    "    alpha = x[0]\n",
    "    b = x[1]\n",
    "    sigma = x[2]\n",
    "    r0 = x[3]\n",
    "    return sum(np.abs(bond_price_fun(r0,0,t,alpha,b,sigma)-market_zcb_prices))"
   ]
  },
  {
   "cell_type": "code",
   "execution_count": 5,
   "metadata": {
    "colab": {
     "base_uri": "https://localhost:8080/"
    },
    "id": "M1qBvPbUpIfC",
    "outputId": "a1e8e6eb-fde6-47f6-9631-f1f6628de6ed"
   },
   "outputs": [
    {
     "name": "stdout",
     "output_type": "stream",
     "text": [
      "Optimization terminated successfully    (Exit mode 0)\n",
      "            Current function value: 0.00025649906704716674\n",
      "            Iterations: 10\n",
      "            Function evaluations: 64\n",
      "            Gradient evaluations: 10\n"
     ]
    }
   ],
   "source": [
    "bnds = ((0,1),(0,0.2),(0,0.2), (0.00,0.10))\n",
    "opt_val = scipy.optimize.fmin_slsqp(F, (0.3, 0.05, 0.03, 0.05), bounds=bnds)\n",
    "opt_alpha = opt_val[0]\n",
    "opt_b = opt_val[1]\n",
    "opt_sigma = opt_val[2]\n",
    "opt_r0 = opt_val[3]"
   ]
  },
  {
   "cell_type": "markdown",
   "metadata": {
    "id": "JEUFxGHgpIfC"
   },
   "source": [
    "We calculate also the optimal parameters of the model using a minimum value of `F`. This is done using the function ` fmin_slsqp` from `scipy` library."
   ]
  },
  {
   "cell_type": "code",
   "execution_count": 6,
   "metadata": {
    "colab": {
     "base_uri": "https://localhost:8080/"
    },
    "id": "M1qBvPbUpIfC",
    "outputId": "a1e8e6eb-fde6-47f6-9631-f1f6628de6ed"
   },
   "outputs": [
    {
     "name": "stdout",
     "output_type": "stream",
     "text": [
      "Optimization terminated successfully    (Exit mode 0)\n",
      "            Current function value: 0.0002460944580424673\n",
      "            Iterations: 12\n",
      "            Function evaluations: 86\n",
      "            Gradient evaluations: 12\n"
     ]
    }
   ],
   "source": [
    "alpha_min, alpha_max = (0,1)\n",
    "b_min, b_max = (0,0.2)\n",
    "sigma_min, sigma_max = (0,0.2)\n",
    "r_min, r_max = (0.00, 0.10)\n",
    "\n",
    "alpha_0 = 0.3\n",
    "b_0 = 0.05\n",
    "sigma_0 = 0.05\n",
    "r_0 = 0.05\n",
    "\n",
    "bnds = ((alpha_min, alpha_max),(b_min, b_max),(sigma_min, sigma_max), (r_min, r_max))\n",
    "opt_val = scipy.optimize.fmin_slsqp(F, (alpha_0, b_0, sigma_0, r_0), bounds=bnds)\n",
    "opt_alpha = opt_val[0]\n",
    "opt_b = opt_val[1]\n",
    "opt_sigma = opt_val[2]\n",
    "opt_r0 = opt_val[3]"
   ]
  },
  {
   "cell_type": "code",
   "execution_count": 7,
   "metadata": {
    "colab": {
     "base_uri": "https://localhost:8080/"
    },
    "id": "AomcJVeipIfD",
    "outputId": "9b6b417f-1d50-48bf-d7f5-894cf64afee8"
   },
   "outputs": [
    {
     "name": "stdout",
     "output_type": "stream",
     "text": [
      "Optimal Alpha: 0.274\n",
      "Optimal B: 0.071\n",
      "Optimal Sigma 0.045\n",
      "Optimal R0: 0.075\n"
     ]
    }
   ],
   "source": [
    "print(\"Optimal Alpha: {:.3f}\".format(opt_val[0]))\n",
    "print(\"Optimal B: {:.3f}\".format(opt_val[1]))\n",
    "print(\"Optimal Sigma {:.3f}\".format(opt_val[2]))\n",
    "print(\"Optimal R0: {:.3f}\".format(opt_val[3]))"
   ]
  },
  {
   "cell_type": "markdown",
   "metadata": {
    "id": "u63ueOuApIfE"
   },
   "source": [
    "\n",
    "Deriving the model bond price and plotting the market actual bond price"
   ]
  },
  {
   "cell_type": "code",
   "execution_count": 8,
   "metadata": {
    "colab": {
     "base_uri": "https://localhost:8080/",
     "height": 299
    },
    "id": "r2zgkwJNpIfE",
    "outputId": "971dff24-cc0f-4793-f0d8-3e25509a958e"
   },
   "outputs": [
    {
     "data": {
      "image/png": "[encoded data removed]",
      "text/plain": [
       "<Figure size 432x288 with 1 Axes>"
      ]
     },
     "metadata": {
      "needs_background": "light"
     },
     "output_type": "display_data"
    }
   ],
   "source": [
    "model_prices = bond_price_fun(opt_r0,0,t, opt_alpha, opt_b, opt_sigma)\n",
    "model_yield = -np.log(model_prices)/t\n",
    "\n",
    "market = plt.plot(t,market_zcb_prices, label='Market Prices')\n",
    "model = plt.plot(t, model_prices, '.', label='Calibrated Prices')\n",
    "plt.show();\n",
    "#plt.legend();"
   ]
  },
  {
   "cell_type": "markdown",
   "metadata": {
    "id": "DCbpg7aopIfE"
   },
   "source": [
    "\n",
    "From the plot above we can deduce there is a close fit from the plot"
   ]
  },
  {
   "cell_type": "markdown",
   "metadata": {
    "id": "0duut5fipIfE"
   },
   "source": [
    "### 1.2. Simulating the  LIBOR Rate Paths\n",
    "\n",
    "The first approach here is to initialize a parameter $\\sigma_j$ and then use the obtained parameter above to simulate the  Vasicek bond prices"
   ]
  },
  {
   "cell_type": "code",
   "execution_count": 9,
   "metadata": {},
   "outputs": [
    {
     "name": "stdout",
     "output_type": "stream",
     "text": [
      "The bond prices according to Vasicek Model is [1.         0.9937799  0.98760628 0.98147965 0.97540042 0.96936895\n",
      " 0.96338548 0.95745024 0.95156334 0.94572488 0.93993486 0.93419326\n",
      " 0.9285    ]\n"
     ]
    }
   ],
   "source": [
    "sigmaj = 0.2\n",
    "\n",
    "vasi_bond = bond_price_fun(opt_r0, 0, t, alpha=opt_alpha, b=opt_b, sigma=opt_sigma)\n",
    "print(f\"The bond prices according to Vasicek Model is {vasi_bond}\")"
   ]
  },
  {
   "cell_type": "markdown",
   "metadata": {
    "id": "I-BtKuJypIfF"
   },
   "source": [
    "We are initilizing the arrays that will store the simulation of Predictor Corrector and Monte Carlo method then running the Monte Carlo simulation for each timestamp"
   ]
  },
  {
   "cell_type": "code",
   "execution_count": 10,
   "metadata": {
    "id": "ypi8H617pIfF"
   },
   "outputs": [],
   "source": [
    "n_simulations = sample_size\n",
    "n_steps = len(t)\n",
    "\n",
    "delta = np.ones([n_simulations, n_steps - 1])*(t[1:]-t[:-1])\n",
    "mc_forward = np.ones([n_simulations, n_steps-1])*(vasi_bond[:-1]-vasi_bond[1:])/(delta*vasi_bond[1:])\n",
    "predcorr_forward = np.ones([n_simulations, n_steps-1])*(vasi_bond[:-1]-vasi_bond[1:])/(delta*vasi_bond[1:])\n",
    "predcorr_capfac = np.ones([n_simulations, n_steps])\n",
    "mc_capfac = np.ones([n_simulations, n_steps])\n",
    "\n",
    "\n",
    "for i in range(1, n_steps):\n",
    "    Z = norm.rvs(size=[n_simulations,1])\n",
    "    \n",
    "    muhat = np.cumsum(delta[:, i:]*mc_forward[:, i:]*sigmaj**2/(1+delta[:, i:]*mc_forward[:,i:]), axis=1)\n",
    "    mc_forward[:,i:] = mc_forward[:,i:]*np.exp((muhat-sigmaj**2/2)*delta[:,i:]+sigmaj*np.sqrt(delta[:,i:])*Z)\n",
    "    \n",
    "    mu_initial = np.cumsum(delta[:,i:]*predcorr_forward[:,i:]*sigmaj**2/(1+delta[:,i:]*predcorr_forward[:,i:]), axis=1)\n",
    "    for_temp = predcorr_forward[:,i:]*np.exp((mu_initial-sigmaj**2/2)*delta[:,i:]+sigmaj*np.sqrt(delta[:,i:])*Z)\n",
    "    mu_term = np.cumsum(delta[:,i:]*for_temp*sigmaj**2/(1+delta[:,i:]*for_temp), axis=1)\n",
    "    predcorr_forward[:,i:] = predcorr_forward[:,i:]*np.exp((mu_initial+mu_term-sigmaj**2)*delta[:,i:]/2+sigmaj*np.sqrt(delta[:,i:])*Z)"
   ]
  },
  {
   "cell_type": "markdown",
   "metadata": {
    "id": "tDkAcFigpIfG"
   },
   "source": [
    "\n",
    "Calculating the the `bond prices and capitalization factor` from the Monte carlo simulation. Also plotting of `bond prices and capitalization factor` against `Vasicek bond prices.` for comparison"
   ]
  },
  {
   "cell_type": "code",
   "execution_count": 11,
   "metadata": {
    "id": "1T6pGVzcpIfG"
   },
   "outputs": [],
   "source": [
    "mc_capfac[:,1:] = np.cumprod(1 + delta * mc_forward, axis=1)\n",
    "predcorr_capfac[:,1:] = np.cumprod(1+ delta * predcorr_forward, axis=1)\n",
    "\n",
    "mc_price = mc_capfac**(-1)\n",
    "predcorr_price = predcorr_capfac**(-1)\n",
    "\n",
    "mc_final = np.mean(mc_price, axis=0)\n",
    "predcorr_final = np.mean(predcorr_price, axis=0)"
   ]
  },
  {
   "cell_type": "code",
   "execution_count": 12,
   "metadata": {
    "colab": {
     "base_uri": "https://localhost:8080/",
     "height": 279
    },
    "id": "xHkPHPTypIfH",
    "outputId": "26c69863-1011-4a47-de0f-7d91423ce56e"
   },
   "outputs": [
    {
     "data": {
      "image/png": "[encoded data removed]",
      "text/plain": [
       "<Figure size 432x288 with 1 Axes>"
      ]
     },
     "metadata": {
      "needs_background": "light"
     },
     "output_type": "display_data"
    }
   ],
   "source": [
    "plt.xlabel(\"Maturity\")\n",
    "plt.ylabel(\"Bond Price\")\n",
    "plt.plot(t,vasi_bond, label=\"Vasicek Bond Prices\")\n",
    "\n",
    "plt.plot(t, mc_final, 'o', label=\"Simple Monte Carlo Bond Prices\")\n",
    "plt.plot(t, predcorr_final, 'x', label=\"Predictor-Corrector Bond Prices\")\n",
    "plt.legend()\n",
    "plt.show();"
   ]
  },
  {
   "cell_type": "markdown",
   "metadata": {
    "id": "Wu9BqVTOpIfH"
   },
   "source": [
    "In our simulation, we used Predictor Corrector approach, $e^{r_{t_i} (t_{i+1}-t_i)} = 1 + L(t_i,t_{i+1})(t_{i+1}-t_i)$ in order to calculate the continuous compounded interest rates"
   ]
  },
  {
   "cell_type": "code",
   "execution_count": 13,
   "metadata": {
    "id": "qozpLC6KpIfI"
   },
   "outputs": [],
   "source": [
    "r_sim = np.log(1 + predcorr_forward*delta)"
   ]
  },
  {
   "cell_type": "code",
   "execution_count": 14,
   "metadata": {},
   "outputs": [],
   "source": [
    "r_annualized= lambda r: pd.DataFrame((1+r*delta)**len(t-1)-1)"
   ]
  },
  {
   "cell_type": "code",
   "execution_count": 15,
   "metadata": {
    "id": "1yevxmo8pIfI"
   },
   "outputs": [],
   "source": [
    "r_sim_annualized = r_annualized(r_sim)"
   ]
  },
  {
   "cell_type": "markdown",
   "metadata": {
    "id": "1gu7kTG_pIfI"
   },
   "source": [
    "\n",
    "Calculting the annualized interest rate"
   ]
  },
  {
   "cell_type": "code",
   "execution_count": 16,
   "metadata": {
    "colab": {
     "base_uri": "https://localhost:8080/",
     "height": 419
    },
    "id": "O1ZeNDszpIfI",
    "outputId": "f1c91efb-bdef-4204-e4a7-7f1c140cde8a"
   },
   "outputs": [
    {
     "data": {
      "text/html": [
       "<div>\n",
       "<style scoped>\n",
       "    .dataframe tbody tr th:only-of-type {\n",
       "        vertical-align: middle;\n",
       "    }\n",
       "\n",
       "    .dataframe tbody tr th {\n",
       "        vertical-align: top;\n",
       "    }\n",
       "\n",
       "    .dataframe thead th {\n",
       "        text-align: right;\n",
       "    }\n",
       "</style>\n",
       "<table border=\"1\" class=\"dataframe\">\n",
       "  <thead>\n",
       "    <tr style=\"text-align: right;\">\n",
       "      <th></th>\n",
       "      <th>0</th>\n",
       "      <th>1</th>\n",
       "      <th>2</th>\n",
       "      <th>3</th>\n",
       "      <th>4</th>\n",
       "      <th>5</th>\n",
       "      <th>6</th>\n",
       "      <th>7</th>\n",
       "      <th>8</th>\n",
       "      <th>9</th>\n",
       "      <th>10</th>\n",
       "      <th>11</th>\n",
       "    </tr>\n",
       "  </thead>\n",
       "  <tbody>\n",
       "    <tr>\n",
       "      <th>0</th>\n",
       "      <td>0.006781</td>\n",
       "      <td>0.006875</td>\n",
       "      <td>0.006681</td>\n",
       "      <td>0.006280</td>\n",
       "      <td>0.006179</td>\n",
       "      <td>0.007163</td>\n",
       "      <td>0.006891</td>\n",
       "      <td>0.007080</td>\n",
       "      <td>0.007634</td>\n",
       "      <td>0.007413</td>\n",
       "      <td>0.006554</td>\n",
       "      <td>0.007138</td>\n",
       "    </tr>\n",
       "    <tr>\n",
       "      <th>1</th>\n",
       "      <td>0.006781</td>\n",
       "      <td>0.006546</td>\n",
       "      <td>0.006754</td>\n",
       "      <td>0.007460</td>\n",
       "      <td>0.008101</td>\n",
       "      <td>0.007581</td>\n",
       "      <td>0.007584</td>\n",
       "      <td>0.008525</td>\n",
       "      <td>0.008051</td>\n",
       "      <td>0.008545</td>\n",
       "      <td>0.007788</td>\n",
       "      <td>0.007547</td>\n",
       "    </tr>\n",
       "    <tr>\n",
       "      <th>2</th>\n",
       "      <td>0.006781</td>\n",
       "      <td>0.006794</td>\n",
       "      <td>0.006389</td>\n",
       "      <td>0.006633</td>\n",
       "      <td>0.007340</td>\n",
       "      <td>0.007484</td>\n",
       "      <td>0.006885</td>\n",
       "      <td>0.006628</td>\n",
       "      <td>0.007580</td>\n",
       "      <td>0.007107</td>\n",
       "      <td>0.007497</td>\n",
       "      <td>0.007317</td>\n",
       "    </tr>\n",
       "    <tr>\n",
       "      <th>3</th>\n",
       "      <td>0.006781</td>\n",
       "      <td>0.006728</td>\n",
       "      <td>0.006711</td>\n",
       "      <td>0.006551</td>\n",
       "      <td>0.006046</td>\n",
       "      <td>0.006165</td>\n",
       "      <td>0.006153</td>\n",
       "      <td>0.006308</td>\n",
       "      <td>0.006208</td>\n",
       "      <td>0.006027</td>\n",
       "      <td>0.005546</td>\n",
       "      <td>0.005290</td>\n",
       "    </tr>\n",
       "    <tr>\n",
       "      <th>4</th>\n",
       "      <td>0.006781</td>\n",
       "      <td>0.006847</td>\n",
       "      <td>0.007130</td>\n",
       "      <td>0.006898</td>\n",
       "      <td>0.007730</td>\n",
       "      <td>0.008023</td>\n",
       "      <td>0.008183</td>\n",
       "      <td>0.007827</td>\n",
       "      <td>0.007827</td>\n",
       "      <td>0.007756</td>\n",
       "      <td>0.008060</td>\n",
       "      <td>0.007775</td>\n",
       "    </tr>\n",
       "    <tr>\n",
       "      <th>...</th>\n",
       "      <td>...</td>\n",
       "      <td>...</td>\n",
       "      <td>...</td>\n",
       "      <td>...</td>\n",
       "      <td>...</td>\n",
       "      <td>...</td>\n",
       "      <td>...</td>\n",
       "      <td>...</td>\n",
       "      <td>...</td>\n",
       "      <td>...</td>\n",
       "      <td>...</td>\n",
       "      <td>...</td>\n",
       "    </tr>\n",
       "    <tr>\n",
       "      <th>999995</th>\n",
       "      <td>0.006781</td>\n",
       "      <td>0.006607</td>\n",
       "      <td>0.006838</td>\n",
       "      <td>0.007196</td>\n",
       "      <td>0.007282</td>\n",
       "      <td>0.007142</td>\n",
       "      <td>0.006825</td>\n",
       "      <td>0.006438</td>\n",
       "      <td>0.006315</td>\n",
       "      <td>0.005767</td>\n",
       "      <td>0.005854</td>\n",
       "      <td>0.005761</td>\n",
       "    </tr>\n",
       "    <tr>\n",
       "      <th>999996</th>\n",
       "      <td>0.006781</td>\n",
       "      <td>0.006436</td>\n",
       "      <td>0.006506</td>\n",
       "      <td>0.006609</td>\n",
       "      <td>0.006299</td>\n",
       "      <td>0.005966</td>\n",
       "      <td>0.006101</td>\n",
       "      <td>0.006268</td>\n",
       "      <td>0.005841</td>\n",
       "      <td>0.005636</td>\n",
       "      <td>0.005955</td>\n",
       "      <td>0.006530</td>\n",
       "    </tr>\n",
       "    <tr>\n",
       "      <th>999997</th>\n",
       "      <td>0.006781</td>\n",
       "      <td>0.006549</td>\n",
       "      <td>0.005866</td>\n",
       "      <td>0.005693</td>\n",
       "      <td>0.005435</td>\n",
       "      <td>0.005137</td>\n",
       "      <td>0.004957</td>\n",
       "      <td>0.005392</td>\n",
       "      <td>0.005624</td>\n",
       "      <td>0.005681</td>\n",
       "      <td>0.005328</td>\n",
       "      <td>0.005300</td>\n",
       "    </tr>\n",
       "    <tr>\n",
       "      <th>999998</th>\n",
       "      <td>0.006781</td>\n",
       "      <td>0.006673</td>\n",
       "      <td>0.007380</td>\n",
       "      <td>0.007348</td>\n",
       "      <td>0.007176</td>\n",
       "      <td>0.007727</td>\n",
       "      <td>0.007866</td>\n",
       "      <td>0.008094</td>\n",
       "      <td>0.008160</td>\n",
       "      <td>0.007296</td>\n",
       "      <td>0.007751</td>\n",
       "      <td>0.007667</td>\n",
       "    </tr>\n",
       "    <tr>\n",
       "      <th>999999</th>\n",
       "      <td>0.006781</td>\n",
       "      <td>0.005968</td>\n",
       "      <td>0.006126</td>\n",
       "      <td>0.006028</td>\n",
       "      <td>0.006654</td>\n",
       "      <td>0.006764</td>\n",
       "      <td>0.006944</td>\n",
       "      <td>0.006668</td>\n",
       "      <td>0.006955</td>\n",
       "      <td>0.006979</td>\n",
       "      <td>0.006716</td>\n",
       "      <td>0.006604</td>\n",
       "    </tr>\n",
       "  </tbody>\n",
       "</table>\n",
       "<p>1000000 rows × 12 columns</p>\n",
       "</div>"
      ],
      "text/plain": [
       "              0         1         2         3         4         5         6   \\\n",
       "0       0.006781  0.006875  0.006681  0.006280  0.006179  0.007163  0.006891   \n",
       "1       0.006781  0.006546  0.006754  0.007460  0.008101  0.007581  0.007584   \n",
       "2       0.006781  0.006794  0.006389  0.006633  0.007340  0.007484  0.006885   \n",
       "3       0.006781  0.006728  0.006711  0.006551  0.006046  0.006165  0.006153   \n",
       "4       0.006781  0.006847  0.007130  0.006898  0.007730  0.008023  0.008183   \n",
       "...          ...       ...       ...       ...       ...       ...       ...   \n",
       "999995  0.006781  0.006607  0.006838  0.007196  0.007282  0.007142  0.006825   \n",
       "999996  0.006781  0.006436  0.006506  0.006609  0.006299  0.005966  0.006101   \n",
       "999997  0.006781  0.006549  0.005866  0.005693  0.005435  0.005137  0.004957   \n",
       "999998  0.006781  0.006673  0.007380  0.007348  0.007176  0.007727  0.007866   \n",
       "999999  0.006781  0.005968  0.006126  0.006028  0.006654  0.006764  0.006944   \n",
       "\n",
       "              7         8         9         10        11  \n",
       "0       0.007080  0.007634  0.007413  0.006554  0.007138  \n",
       "1       0.008525  0.008051  0.008545  0.007788  0.007547  \n",
       "2       0.006628  0.007580  0.007107  0.007497  0.007317  \n",
       "3       0.006308  0.006208  0.006027  0.005546  0.005290  \n",
       "4       0.007827  0.007827  0.007756  0.008060  0.007775  \n",
       "...          ...       ...       ...       ...       ...  \n",
       "999995  0.006438  0.006315  0.005767  0.005854  0.005761  \n",
       "999996  0.006268  0.005841  0.005636  0.005955  0.006530  \n",
       "999997  0.005392  0.005624  0.005681  0.005328  0.005300  \n",
       "999998  0.008094  0.008160  0.007296  0.007751  0.007667  \n",
       "999999  0.006668  0.006955  0.006979  0.006716  0.006604  \n",
       "\n",
       "[1000000 rows x 12 columns]"
      ]
     },
     "execution_count": 16,
     "metadata": {},
     "output_type": "execute_result"
    }
   ],
   "source": [
    "r_sim_annualized"
   ]
  },
  {
   "cell_type": "markdown",
   "metadata": {
    "id": "OnswBgQppIfI"
   },
   "source": [
    "### 1.3. Generating a Stock and Firm Values\n",
    "\n",
    "Computing the correlated path using the Cholesky decomposition\n"
   ]
  },
  {
   "cell_type": "code",
   "execution_count": 17,
   "metadata": {
    "id": "mWLCXBDEpIfJ"
   },
   "outputs": [],
   "source": [
    "def next_share_price(prev_price, r, dT, sigma_const, gamma, sample_size, Z, varying_vol = True):\n",
    "    \n",
    "    sigma= sigma_const*(prev_price)**(gamma-1) if varying_vol else sigma_const*(S0)**(gamma-1)\n",
    "    \n",
    "    return prev_price*np.exp(np.cumsum((r-(sigma**2)/2)*(dT)+(sigma)*(np.sqrt(dT))*Z,1))\n",
    "\n",
    "def generate_share_and_firm_price(S0, v_0, r_sim, sigma_const, gamma, corr, T, sample_size, timesteps = 12):\n",
    "    corr_matrix = np.array([[1, corr], [corr, 1]])\n",
    "    norm_matrix = stats.norm.rvs(size = np.array([sample_size, 2, timesteps]))\n",
    "    corr_norm_matrix = np.matmul(np.linalg.cholesky(corr_matrix), norm_matrix)\n",
    "    \n",
    "    \n",
    "    share_price_path = pd.DataFrame(next_share_price(S0, r_sim, 1/timesteps, sigma_const, gamma, sample_size, Z=corr_norm_matrix[:,0,]))\n",
    "    share_price_path = share_price_path.transpose()\n",
    "    \n",
    "    first_row = pd.DataFrame([S0]*sample_size)\n",
    "    first_row = first_row.transpose()\n",
    "    share_price_path = pd.concat([first_row, share_price_path])\n",
    "    share_price_path = share_price_path.reset_index(drop=True)\n",
    "\n",
    "    firm_price_path = pd.DataFrame(next_share_price(v_0, r_sim, 1/timesteps, sigma_const, gamma, sample_size, Z=corr_norm_matrix[:,1,]))\n",
    "    firm_price_path = firm_price_path.transpose()\n",
    "    \n",
    "    first_row = pd.DataFrame([v_0]*sample_size)\n",
    "    first_row = first_row.transpose()\n",
    "    firm_price_path = pd.concat([first_row, firm_price_path])\n",
    "    firm_price_path = firm_price_path.reset_index(drop=True)\n",
    "\n",
    "    return [share_price_path,firm_price_path]  \n",
    "share_prices, firm_prices = generate_share_and_firm_price(S0, v_0, r_sim_annualized, sigma_const, gamma, corr, T, sample_size, timesteps = 12)"
   ]
  },
  {
   "cell_type": "code",
   "execution_count": 18,
   "metadata": {
    "colab": {
     "base_uri": "https://localhost:8080/",
     "height": 253
    },
    "id": "6rF7dIfOpIfJ",
    "outputId": "d57a742e-a8af-475f-f9f4-f7b518050f8c"
   },
   "outputs": [
    {
     "data": {
      "text/html": [
       "<div>\n",
       "<style scoped>\n",
       "    .dataframe tbody tr th:only-of-type {\n",
       "        vertical-align: middle;\n",
       "    }\n",
       "\n",
       "    .dataframe tbody tr th {\n",
       "        vertical-align: top;\n",
       "    }\n",
       "\n",
       "    .dataframe thead th {\n",
       "        text-align: right;\n",
       "    }\n",
       "</style>\n",
       "<table border=\"1\" class=\"dataframe\">\n",
       "  <thead>\n",
       "    <tr style=\"text-align: right;\">\n",
       "      <th></th>\n",
       "      <th>0</th>\n",
       "      <th>1</th>\n",
       "      <th>2</th>\n",
       "      <th>3</th>\n",
       "      <th>4</th>\n",
       "      <th>5</th>\n",
       "      <th>6</th>\n",
       "      <th>7</th>\n",
       "      <th>8</th>\n",
       "      <th>9</th>\n",
       "      <th>10</th>\n",
       "      <th>11</th>\n",
       "      <th>12</th>\n",
       "      <th>13</th>\n",
       "      <th>14</th>\n",
       "      <th>...</th>\n",
       "      <th>999985</th>\n",
       "      <th>999986</th>\n",
       "      <th>999987</th>\n",
       "      <th>999988</th>\n",
       "      <th>999989</th>\n",
       "      <th>999990</th>\n",
       "      <th>999991</th>\n",
       "      <th>999992</th>\n",
       "      <th>999993</th>\n",
       "      <th>999994</th>\n",
       "      <th>999995</th>\n",
       "      <th>999996</th>\n",
       "      <th>999997</th>\n",
       "      <th>999998</th>\n",
       "      <th>999999</th>\n",
       "    </tr>\n",
       "  </thead>\n",
       "  <tbody>\n",
       "    <tr>\n",
       "      <th>0</th>\n",
       "      <td>100.000000</td>\n",
       "      <td>100.000000</td>\n",
       "      <td>100.000000</td>\n",
       "      <td>100.000000</td>\n",
       "      <td>100.000000</td>\n",
       "      <td>100.000000</td>\n",
       "      <td>100.000000</td>\n",
       "      <td>100.000000</td>\n",
       "      <td>100.000000</td>\n",
       "      <td>100.000000</td>\n",
       "      <td>100.000000</td>\n",
       "      <td>100.000000</td>\n",
       "      <td>100.000000</td>\n",
       "      <td>100.000000</td>\n",
       "      <td>100.000000</td>\n",
       "      <td>...</td>\n",
       "      <td>100.000000</td>\n",
       "      <td>100.000000</td>\n",
       "      <td>100.000000</td>\n",
       "      <td>100.000000</td>\n",
       "      <td>100.000000</td>\n",
       "      <td>100.000000</td>\n",
       "      <td>100.000000</td>\n",
       "      <td>100.000000</td>\n",
       "      <td>100.000000</td>\n",
       "      <td>100.000000</td>\n",
       "      <td>100.000000</td>\n",
       "      <td>100.000000</td>\n",
       "      <td>100.000000</td>\n",
       "      <td>100.000000</td>\n",
       "      <td>100.000000</td>\n",
       "    </tr>\n",
       "    <tr>\n",
       "      <th>1</th>\n",
       "      <td>101.222293</td>\n",
       "      <td>98.308881</td>\n",
       "      <td>102.142481</td>\n",
       "      <td>103.415313</td>\n",
       "      <td>98.353934</td>\n",
       "      <td>98.941445</td>\n",
       "      <td>99.328350</td>\n",
       "      <td>96.650859</td>\n",
       "      <td>101.548003</td>\n",
       "      <td>97.125148</td>\n",
       "      <td>98.360400</td>\n",
       "      <td>97.751549</td>\n",
       "      <td>98.804050</td>\n",
       "      <td>96.929176</td>\n",
       "      <td>99.087147</td>\n",
       "      <td>...</td>\n",
       "      <td>98.949082</td>\n",
       "      <td>98.421317</td>\n",
       "      <td>103.109629</td>\n",
       "      <td>97.789595</td>\n",
       "      <td>101.025721</td>\n",
       "      <td>98.385859</td>\n",
       "      <td>101.427013</td>\n",
       "      <td>100.347988</td>\n",
       "      <td>98.103969</td>\n",
       "      <td>97.764627</td>\n",
       "      <td>95.765991</td>\n",
       "      <td>100.239518</td>\n",
       "      <td>96.346069</td>\n",
       "      <td>101.571910</td>\n",
       "      <td>99.055524</td>\n",
       "    </tr>\n",
       "    <tr>\n",
       "      <th>2</th>\n",
       "      <td>99.305163</td>\n",
       "      <td>98.214245</td>\n",
       "      <td>106.524409</td>\n",
       "      <td>103.699119</td>\n",
       "      <td>94.618722</td>\n",
       "      <td>100.577035</td>\n",
       "      <td>103.432336</td>\n",
       "      <td>96.039834</td>\n",
       "      <td>105.424254</td>\n",
       "      <td>97.282575</td>\n",
       "      <td>93.646083</td>\n",
       "      <td>98.383091</td>\n",
       "      <td>103.431273</td>\n",
       "      <td>97.745380</td>\n",
       "      <td>99.972856</td>\n",
       "      <td>...</td>\n",
       "      <td>97.570385</td>\n",
       "      <td>97.222639</td>\n",
       "      <td>102.500993</td>\n",
       "      <td>96.081954</td>\n",
       "      <td>103.351242</td>\n",
       "      <td>95.155861</td>\n",
       "      <td>97.404166</td>\n",
       "      <td>99.137873</td>\n",
       "      <td>100.202853</td>\n",
       "      <td>91.513084</td>\n",
       "      <td>95.986846</td>\n",
       "      <td>100.019841</td>\n",
       "      <td>98.302447</td>\n",
       "      <td>98.105776</td>\n",
       "      <td>103.434628</td>\n",
       "    </tr>\n",
       "    <tr>\n",
       "      <th>3</th>\n",
       "      <td>98.371558</td>\n",
       "      <td>99.034430</td>\n",
       "      <td>107.728380</td>\n",
       "      <td>103.525896</td>\n",
       "      <td>97.550015</td>\n",
       "      <td>102.964222</td>\n",
       "      <td>103.363607</td>\n",
       "      <td>98.993564</td>\n",
       "      <td>103.010607</td>\n",
       "      <td>94.702834</td>\n",
       "      <td>95.880349</td>\n",
       "      <td>97.530614</td>\n",
       "      <td>102.428379</td>\n",
       "      <td>96.497785</td>\n",
       "      <td>98.678546</td>\n",
       "      <td>...</td>\n",
       "      <td>95.801477</td>\n",
       "      <td>93.337204</td>\n",
       "      <td>104.626343</td>\n",
       "      <td>90.652937</td>\n",
       "      <td>104.483719</td>\n",
       "      <td>97.250243</td>\n",
       "      <td>94.896772</td>\n",
       "      <td>98.765549</td>\n",
       "      <td>99.555394</td>\n",
       "      <td>85.258175</td>\n",
       "      <td>97.366499</td>\n",
       "      <td>106.223550</td>\n",
       "      <td>99.528618</td>\n",
       "      <td>103.089578</td>\n",
       "      <td>105.760711</td>\n",
       "    </tr>\n",
       "    <tr>\n",
       "      <th>4</th>\n",
       "      <td>98.771258</td>\n",
       "      <td>95.686788</td>\n",
       "      <td>105.365429</td>\n",
       "      <td>102.566632</td>\n",
       "      <td>92.589683</td>\n",
       "      <td>104.449129</td>\n",
       "      <td>102.678331</td>\n",
       "      <td>98.150212</td>\n",
       "      <td>99.928006</td>\n",
       "      <td>95.407638</td>\n",
       "      <td>93.996984</td>\n",
       "      <td>101.515753</td>\n",
       "      <td>99.623479</td>\n",
       "      <td>94.409980</td>\n",
       "      <td>100.392322</td>\n",
       "      <td>...</td>\n",
       "      <td>94.190670</td>\n",
       "      <td>97.071488</td>\n",
       "      <td>103.594356</td>\n",
       "      <td>88.571172</td>\n",
       "      <td>104.396178</td>\n",
       "      <td>101.804122</td>\n",
       "      <td>92.459064</td>\n",
       "      <td>95.306170</td>\n",
       "      <td>100.900286</td>\n",
       "      <td>84.897353</td>\n",
       "      <td>93.985182</td>\n",
       "      <td>109.381099</td>\n",
       "      <td>105.988331</td>\n",
       "      <td>98.162561</td>\n",
       "      <td>111.005666</td>\n",
       "    </tr>\n",
       "  </tbody>\n",
       "</table>\n",
       "<p>5 rows × 1000000 columns</p>\n",
       "</div>"
      ],
      "text/plain": [
       "       0           1           2           3           4           5       \\\n",
       "0  100.000000  100.000000  100.000000  100.000000  100.000000  100.000000   \n",
       "1  101.222293   98.308881  102.142481  103.415313   98.353934   98.941445   \n",
       "2   99.305163   98.214245  106.524409  103.699119   94.618722  100.577035   \n",
       "3   98.371558   99.034430  107.728380  103.525896   97.550015  102.964222   \n",
       "4   98.771258   95.686788  105.365429  102.566632   92.589683  104.449129   \n",
       "\n",
       "       6           7           8           9           10          11      \\\n",
       "0  100.000000  100.000000  100.000000  100.000000  100.000000  100.000000   \n",
       "1   99.328350   96.650859  101.548003   97.125148   98.360400   97.751549   \n",
       "2  103.432336   96.039834  105.424254   97.282575   93.646083   98.383091   \n",
       "3  103.363607   98.993564  103.010607   94.702834   95.880349   97.530614   \n",
       "4  102.678331   98.150212   99.928006   95.407638   93.996984  101.515753   \n",
       "\n",
       "       12          13          14      ...      999985      999986  \\\n",
       "0  100.000000  100.000000  100.000000  ...  100.000000  100.000000   \n",
       "1   98.804050   96.929176   99.087147  ...   98.949082   98.421317   \n",
       "2  103.431273   97.745380   99.972856  ...   97.570385   97.222639   \n",
       "3  102.428379   96.497785   98.678546  ...   95.801477   93.337204   \n",
       "4   99.623479   94.409980  100.392322  ...   94.190670   97.071488   \n",
       "\n",
       "       999987      999988      999989      999990      999991      999992  \\\n",
       "0  100.000000  100.000000  100.000000  100.000000  100.000000  100.000000   \n",
       "1  103.109629   97.789595  101.025721   98.385859  101.427013  100.347988   \n",
       "2  102.500993   96.081954  103.351242   95.155861   97.404166   99.137873   \n",
       "3  104.626343   90.652937  104.483719   97.250243   94.896772   98.765549   \n",
       "4  103.594356   88.571172  104.396178  101.804122   92.459064   95.306170   \n",
       "\n",
       "       999993      999994      999995      999996      999997      999998  \\\n",
       "0  100.000000  100.000000  100.000000  100.000000  100.000000  100.000000   \n",
       "1   98.103969   97.764627   95.765991  100.239518   96.346069  101.571910   \n",
       "2  100.202853   91.513084   95.986846  100.019841   98.302447   98.105776   \n",
       "3   99.555394   85.258175   97.366499  106.223550   99.528618  103.089578   \n",
       "4  100.900286   84.897353   93.985182  109.381099  105.988331   98.162561   \n",
       "\n",
       "       999999  \n",
       "0  100.000000  \n",
       "1   99.055524  \n",
       "2  103.434628  \n",
       "3  105.760711  \n",
       "4  111.005666  \n",
       "\n",
       "[5 rows x 1000000 columns]"
      ]
     },
     "execution_count": 18,
     "metadata": {},
     "output_type": "execute_result"
    }
   ],
   "source": [
    "share_prices.head()"
   ]
  },
  {
   "cell_type": "code",
   "execution_count": 19,
   "metadata": {
    "colab": {
     "base_uri": "https://localhost:8080/",
     "height": 253
    },
    "id": "C6bfuimBpIfJ",
    "outputId": "c7cfa40c-361a-49ee-b41f-4eb55ce9ccd8"
   },
   "outputs": [
    {
     "data": {
      "text/html": [
       "<div>\n",
       "<style scoped>\n",
       "    .dataframe tbody tr th:only-of-type {\n",
       "        vertical-align: middle;\n",
       "    }\n",
       "\n",
       "    .dataframe tbody tr th {\n",
       "        vertical-align: top;\n",
       "    }\n",
       "\n",
       "    .dataframe thead th {\n",
       "        text-align: right;\n",
       "    }\n",
       "</style>\n",
       "<table border=\"1\" class=\"dataframe\">\n",
       "  <thead>\n",
       "    <tr style=\"text-align: right;\">\n",
       "      <th></th>\n",
       "      <th>0</th>\n",
       "      <th>1</th>\n",
       "      <th>2</th>\n",
       "      <th>3</th>\n",
       "      <th>4</th>\n",
       "      <th>5</th>\n",
       "      <th>6</th>\n",
       "      <th>7</th>\n",
       "      <th>8</th>\n",
       "      <th>9</th>\n",
       "      <th>10</th>\n",
       "      <th>11</th>\n",
       "      <th>12</th>\n",
       "      <th>13</th>\n",
       "      <th>14</th>\n",
       "      <th>...</th>\n",
       "      <th>999985</th>\n",
       "      <th>999986</th>\n",
       "      <th>999987</th>\n",
       "      <th>999988</th>\n",
       "      <th>999989</th>\n",
       "      <th>999990</th>\n",
       "      <th>999991</th>\n",
       "      <th>999992</th>\n",
       "      <th>999993</th>\n",
       "      <th>999994</th>\n",
       "      <th>999995</th>\n",
       "      <th>999996</th>\n",
       "      <th>999997</th>\n",
       "      <th>999998</th>\n",
       "      <th>999999</th>\n",
       "    </tr>\n",
       "  </thead>\n",
       "  <tbody>\n",
       "    <tr>\n",
       "      <th>0</th>\n",
       "      <td>200.000000</td>\n",
       "      <td>200.000000</td>\n",
       "      <td>200.000000</td>\n",
       "      <td>200.000000</td>\n",
       "      <td>200.000000</td>\n",
       "      <td>200.000000</td>\n",
       "      <td>200.000000</td>\n",
       "      <td>200.000000</td>\n",
       "      <td>200.000000</td>\n",
       "      <td>200.000000</td>\n",
       "      <td>200.000000</td>\n",
       "      <td>200.000000</td>\n",
       "      <td>200.000000</td>\n",
       "      <td>200.000000</td>\n",
       "      <td>200.000000</td>\n",
       "      <td>...</td>\n",
       "      <td>200.000000</td>\n",
       "      <td>200.000000</td>\n",
       "      <td>200.000000</td>\n",
       "      <td>200.000000</td>\n",
       "      <td>200.000000</td>\n",
       "      <td>200.000000</td>\n",
       "      <td>200.000000</td>\n",
       "      <td>200.000000</td>\n",
       "      <td>200.000000</td>\n",
       "      <td>200.000000</td>\n",
       "      <td>200.000000</td>\n",
       "      <td>200.000000</td>\n",
       "      <td>200.000000</td>\n",
       "      <td>200.000000</td>\n",
       "      <td>200.000000</td>\n",
       "    </tr>\n",
       "    <tr>\n",
       "      <th>1</th>\n",
       "      <td>200.482827</td>\n",
       "      <td>204.823328</td>\n",
       "      <td>207.073623</td>\n",
       "      <td>205.180220</td>\n",
       "      <td>201.921571</td>\n",
       "      <td>200.636476</td>\n",
       "      <td>193.990904</td>\n",
       "      <td>193.014105</td>\n",
       "      <td>194.765118</td>\n",
       "      <td>194.027143</td>\n",
       "      <td>198.060605</td>\n",
       "      <td>194.189874</td>\n",
       "      <td>198.951503</td>\n",
       "      <td>194.930119</td>\n",
       "      <td>202.641183</td>\n",
       "      <td>...</td>\n",
       "      <td>195.771265</td>\n",
       "      <td>199.251457</td>\n",
       "      <td>196.584961</td>\n",
       "      <td>202.368451</td>\n",
       "      <td>196.996237</td>\n",
       "      <td>203.405326</td>\n",
       "      <td>196.650640</td>\n",
       "      <td>198.594573</td>\n",
       "      <td>202.356294</td>\n",
       "      <td>203.845284</td>\n",
       "      <td>190.102657</td>\n",
       "      <td>204.738296</td>\n",
       "      <td>193.749484</td>\n",
       "      <td>199.331173</td>\n",
       "      <td>203.008684</td>\n",
       "    </tr>\n",
       "    <tr>\n",
       "      <th>2</th>\n",
       "      <td>202.966262</td>\n",
       "      <td>199.796309</td>\n",
       "      <td>203.606607</td>\n",
       "      <td>210.916836</td>\n",
       "      <td>203.809283</td>\n",
       "      <td>207.135489</td>\n",
       "      <td>195.643606</td>\n",
       "      <td>190.290819</td>\n",
       "      <td>196.160095</td>\n",
       "      <td>189.967348</td>\n",
       "      <td>191.869983</td>\n",
       "      <td>198.423594</td>\n",
       "      <td>201.453161</td>\n",
       "      <td>197.395137</td>\n",
       "      <td>200.808503</td>\n",
       "      <td>...</td>\n",
       "      <td>201.791735</td>\n",
       "      <td>200.024205</td>\n",
       "      <td>200.217668</td>\n",
       "      <td>193.140512</td>\n",
       "      <td>198.786109</td>\n",
       "      <td>204.849529</td>\n",
       "      <td>201.654828</td>\n",
       "      <td>194.346793</td>\n",
       "      <td>211.783536</td>\n",
       "      <td>197.698889</td>\n",
       "      <td>184.070466</td>\n",
       "      <td>206.184251</td>\n",
       "      <td>198.677502</td>\n",
       "      <td>199.312892</td>\n",
       "      <td>211.040974</td>\n",
       "    </tr>\n",
       "    <tr>\n",
       "      <th>3</th>\n",
       "      <td>210.673702</td>\n",
       "      <td>200.716658</td>\n",
       "      <td>196.627781</td>\n",
       "      <td>213.424769</td>\n",
       "      <td>203.830334</td>\n",
       "      <td>199.677920</td>\n",
       "      <td>192.409256</td>\n",
       "      <td>196.304576</td>\n",
       "      <td>189.729836</td>\n",
       "      <td>189.657431</td>\n",
       "      <td>194.532721</td>\n",
       "      <td>193.755602</td>\n",
       "      <td>201.964574</td>\n",
       "      <td>201.304373</td>\n",
       "      <td>202.973721</td>\n",
       "      <td>...</td>\n",
       "      <td>198.782698</td>\n",
       "      <td>199.485161</td>\n",
       "      <td>196.750070</td>\n",
       "      <td>186.981132</td>\n",
       "      <td>198.893264</td>\n",
       "      <td>208.142660</td>\n",
       "      <td>198.945500</td>\n",
       "      <td>190.180904</td>\n",
       "      <td>209.919046</td>\n",
       "      <td>188.198520</td>\n",
       "      <td>187.561582</td>\n",
       "      <td>210.922463</td>\n",
       "      <td>198.051778</td>\n",
       "      <td>205.445991</td>\n",
       "      <td>205.442922</td>\n",
       "    </tr>\n",
       "    <tr>\n",
       "      <th>4</th>\n",
       "      <td>211.298155</td>\n",
       "      <td>207.349125</td>\n",
       "      <td>198.502736</td>\n",
       "      <td>213.816088</td>\n",
       "      <td>200.384332</td>\n",
       "      <td>196.147860</td>\n",
       "      <td>194.102222</td>\n",
       "      <td>190.740520</td>\n",
       "      <td>189.549389</td>\n",
       "      <td>187.921010</td>\n",
       "      <td>194.165163</td>\n",
       "      <td>198.484222</td>\n",
       "      <td>196.026776</td>\n",
       "      <td>202.054601</td>\n",
       "      <td>197.232516</td>\n",
       "      <td>...</td>\n",
       "      <td>195.350511</td>\n",
       "      <td>197.242340</td>\n",
       "      <td>194.470386</td>\n",
       "      <td>189.379068</td>\n",
       "      <td>206.675189</td>\n",
       "      <td>201.660772</td>\n",
       "      <td>203.254389</td>\n",
       "      <td>191.832671</td>\n",
       "      <td>208.697762</td>\n",
       "      <td>188.042405</td>\n",
       "      <td>184.041132</td>\n",
       "      <td>210.244401</td>\n",
       "      <td>202.165875</td>\n",
       "      <td>209.785763</td>\n",
       "      <td>204.425512</td>\n",
       "    </tr>\n",
       "  </tbody>\n",
       "</table>\n",
       "<p>5 rows × 1000000 columns</p>\n",
       "</div>"
      ],
      "text/plain": [
       "       0           1           2           3           4           5       \\\n",
       "0  200.000000  200.000000  200.000000  200.000000  200.000000  200.000000   \n",
       "1  200.482827  204.823328  207.073623  205.180220  201.921571  200.636476   \n",
       "2  202.966262  199.796309  203.606607  210.916836  203.809283  207.135489   \n",
       "3  210.673702  200.716658  196.627781  213.424769  203.830334  199.677920   \n",
       "4  211.298155  207.349125  198.502736  213.816088  200.384332  196.147860   \n",
       "\n",
       "       6           7           8           9           10          11      \\\n",
       "0  200.000000  200.000000  200.000000  200.000000  200.000000  200.000000   \n",
       "1  193.990904  193.014105  194.765118  194.027143  198.060605  194.189874   \n",
       "2  195.643606  190.290819  196.160095  189.967348  191.869983  198.423594   \n",
       "3  192.409256  196.304576  189.729836  189.657431  194.532721  193.755602   \n",
       "4  194.102222  190.740520  189.549389  187.921010  194.165163  198.484222   \n",
       "\n",
       "       12          13          14      ...      999985      999986  \\\n",
       "0  200.000000  200.000000  200.000000  ...  200.000000  200.000000   \n",
       "1  198.951503  194.930119  202.641183  ...  195.771265  199.251457   \n",
       "2  201.453161  197.395137  200.808503  ...  201.791735  200.024205   \n",
       "3  201.964574  201.304373  202.973721  ...  198.782698  199.485161   \n",
       "4  196.026776  202.054601  197.232516  ...  195.350511  197.242340   \n",
       "\n",
       "       999987      999988      999989      999990      999991      999992  \\\n",
       "0  200.000000  200.000000  200.000000  200.000000  200.000000  200.000000   \n",
       "1  196.584961  202.368451  196.996237  203.405326  196.650640  198.594573   \n",
       "2  200.217668  193.140512  198.786109  204.849529  201.654828  194.346793   \n",
       "3  196.750070  186.981132  198.893264  208.142660  198.945500  190.180904   \n",
       "4  194.470386  189.379068  206.675189  201.660772  203.254389  191.832671   \n",
       "\n",
       "       999993      999994      999995      999996      999997      999998  \\\n",
       "0  200.000000  200.000000  200.000000  200.000000  200.000000  200.000000   \n",
       "1  202.356294  203.845284  190.102657  204.738296  193.749484  199.331173   \n",
       "2  211.783536  197.698889  184.070466  206.184251  198.677502  199.312892   \n",
       "3  209.919046  188.198520  187.561582  210.922463  198.051778  205.445991   \n",
       "4  208.697762  188.042405  184.041132  210.244401  202.165875  209.785763   \n",
       "\n",
       "       999999  \n",
       "0  200.000000  \n",
       "1  203.008684  \n",
       "2  211.040974  \n",
       "3  205.442922  \n",
       "4  204.425512  \n",
       "\n",
       "[5 rows x 1000000 columns]"
      ]
     },
     "execution_count": 19,
     "metadata": {},
     "output_type": "execute_result"
    }
   ],
   "source": [
    "firm_prices.head()"
   ]
  },
  {
   "cell_type": "markdown",
   "metadata": {
    "id": "oHpSG1NspIfJ"
   },
   "source": [
    "### Ploting the Stock price and the firm value path simulated for 100 simulations"
   ]
  },
  {
   "cell_type": "code",
   "execution_count": 20,
   "metadata": {
    "colab": {
     "base_uri": "https://localhost:8080/",
     "height": 281
    },
    "id": "6E7Ix-YzpIfK",
    "outputId": "03638339-fec9-4c74-9781-8b3b1a3407e0"
   },
   "outputs": [
    {
     "data": {
      "image/png": "[encoded data removed]",
      "text/plain": [
       "<Figure size 432x288 with 1 Axes>"
      ]
     },
     "metadata": {
      "needs_background": "light"
     },
     "output_type": "display_data"
    }
   ],
   "source": [
    "share_prices.iloc[:,0:100].plot(title='Share price over 12 months', legend=False);"
   ]
  },
  {
   "cell_type": "code",
   "execution_count": 21,
   "metadata": {
    "colab": {
     "base_uri": "https://localhost:8080/",
     "height": 281
    },
    "id": "zSqXd-RYpIfK",
    "outputId": "f50d361e-0560-4f9c-faa3-66beb68c9d9d"
   },
   "outputs": [
    {
     "data": {
      "image/png": "[encoded data removed]",
      "text/plain": [
       "<Figure size 432x288 with 1 Axes>"
      ]
     },
     "metadata": {
      "needs_background": "light"
     },
     "output_type": "display_data"
    }
   ],
   "source": [
    "firm_prices.iloc[:,0:100].plot(title='Firm price over 12 months', legend=False);"
   ]
  },
  {
   "cell_type": "markdown",
   "metadata": {
    "id": "roIM4AVNpIfK"
   },
   "source": [
    "# Question 2\n"
   ]
  },
  {
   "cell_type": "markdown",
   "metadata": {},
   "source": [
    "### 1 - Year discount factor"
   ]
  },
  {
   "cell_type": "code",
   "execution_count": 22,
   "metadata": {},
   "outputs": [],
   "source": [
    "def discount_factor(r):\n",
    "    return  1/np.cumprod(1 + r,1)[:,-1]"
   ]
  },
  {
   "cell_type": "code",
   "execution_count": 23,
   "metadata": {
    "colab": {
     "base_uri": "https://localhost:8080/"
    },
    "id": "w2rWjpvLpIfK",
    "outputId": "a2a07af6-72ac-4a66-f17e-71b074713365"
   },
   "outputs": [
    {
     "name": "stdout",
     "output_type": "stream",
     "text": [
      "The one year discount factor is [0.92697732 0.91975216 0.92548555 ... 0.93969089 0.9208753  0.92992473]\n"
     ]
    }
   ],
   "source": [
    "one_year_disc_fac = discount_factor(r_sim)\n",
    "\n",
    "print(f\"The one year discount factor is {one_year_disc_fac}\")\n"
   ]
  },
  {
   "cell_type": "markdown",
   "metadata": {
    "id": "IiM3xskypIfL"
   },
   "source": [
    "### Defining Payoff and pricing function for up-and-out call option"
   ]
  },
  {
   "cell_type": "code",
   "execution_count": 24,
   "metadata": {
    "id": "RfxssZVOpIfL"
   },
   "outputs": [],
   "source": [
    "def payoff(S_t, K, L):\n",
    "    stopped_S = S_t.iloc[-1].where((S_t < L).all(), 0)\n",
    "    return np.maximum(stopped_S - K, 0).to_numpy()"
   ]
  },
  {
   "cell_type": "code",
   "execution_count": 25,
   "metadata": {},
   "outputs": [],
   "source": [
    "def option_price(S0:float, K:float, L: float, r:float, cva_adjust:bool=True):\n",
    "    annualized_rate = r_annualized(r)\n",
    "    generate_share_and_firm_price(S0, v_0, annualized_rate, \n",
    "                                sigma_const, gamma, corr, T, \n",
    "                                sample_size, timesteps = 12)[0]\n",
    "    payoffs = payoff(share_prices, K, L)\n",
    "    option_prices = discount_factor(r)*payoffs\n",
    "    cva = 0\n",
    "    \n",
    "    # Factor the CVA adjustment in the option prices\n",
    "    if cva_adjust:\n",
    "        firm_prices = generate_share_and_firm_price(S0, v_0, annualized_rate, \n",
    "                                                    sigma_const, gamma, corr, T, \n",
    "                                                    sample_size, timesteps = 12)[1]\n",
    "        term_firm_vals = firm_prices.iloc[-1].to_numpy()\n",
    "        cva_estimates = discount_factor(r)*(1-recovery_rate)*(term_firm_vals < debt)*payoffs\n",
    "        option_prices -= cva_estimates\n",
    "        cva += cva_estimates.mean()\n",
    "    option_price_est = option_prices.mean()\n",
    "    option_std_est = option_prices.std()/np.sqrt(len(payoffs))\n",
    "    \n",
    "    return option_price_est, option_std_est,cva\n",
    "    "
   ]
  },
  {
   "cell_type": "markdown",
   "metadata": {
    "id": "gLIkzaSLpIfL"
   },
   "source": [
    "### Estimating the default-free value of the option"
   ]
  },
  {
   "cell_type": "code",
   "execution_count": 26,
   "metadata": {
    "colab": {
     "base_uri": "https://localhost:8080/"
    },
    "id": "Z_WP_XGqpIfL",
    "outputId": "cb6ead7b-45ab-4025-d572-e621a79fe817"
   },
   "outputs": [
    {
     "name": "stdout",
     "output_type": "stream",
     "text": [
      "Default-free option price 3.850\n",
      "Default-free option price standard deviation 0.006\n"
     ]
    }
   ],
   "source": [
    "option_price_est, option_std_est, _ = option_price(S0, K, L, r_sim, cva_adjust=False)\n",
    "print(\"Default-free option price {:.3f}\".format(option_price_est))\n",
    "print(\"Default-free option price standard deviation {:.3f}\".format(option_std_est))"
   ]
  },
  {
   "cell_type": "markdown",
   "metadata": {},
   "source": [
    "### Estimating the value of option with counterparty credit risk"
   ]
  },
  {
   "cell_type": "code",
   "execution_count": 27,
   "metadata": {
    "colab": {
     "base_uri": "https://localhost:8080/"
    },
    "id": "5SArZqxWpIfM",
    "outputId": "8db49ce0-45ee-4d8e-8a3f-53ba4bf41b69"
   },
   "outputs": [
    {
     "name": "stdout",
     "output_type": "stream",
     "text": [
      "CVA-adjusted option price 3.726\n",
      "CVA-adjusted option price standard deviation 0.006\n",
      "Credit value adjustment 0.125\n"
     ]
    }
   ],
   "source": [
    "option_cva_adjusted_prices, option_cva_adjusted_std, cva_estimate = option_price(S0, K, L, r_sim, cva_adjust=True)\n",
    "print(\"CVA-adjusted option price {:.3f}\".format(option_cva_adjusted_prices))\n",
    "print(\"CVA-adjusted option price standard deviation {:.3f}\".format(option_cva_adjusted_std))\n",
    "print(\"Credit value adjustment {:.3f}\".format(cva_estimate))"
   ]
  },
  {
   "cell_type": "markdown",
   "metadata": {
    "id": "XSJPsU7SpIfM"
   },
   "source": [
    "## Question 3"
   ]
  },
  {
   "cell_type": "markdown",
   "metadata": {},
   "source": [
    "The credit risk of the long party in the option would increase the value of the option through the decrease of the Bilateral CVA"
   ]
  },
  {
   "cell_type": "markdown",
   "metadata": {
    "id": "XSJPsU7SpIfM"
   },
   "source": [
    "## Question 4 : Impact of an increase of interest rates of 25 bps on the option prices"
   ]
  },
  {
   "cell_type": "markdown",
   "metadata": {},
   "source": [
    "We assume that the interest rate is increased by 25 bps during each time step"
   ]
  },
  {
   "cell_type": "code",
   "execution_count": 28,
   "metadata": {},
   "outputs": [],
   "source": [
    "r_sim += 0.25/100"
   ]
  },
  {
   "cell_type": "code",
   "execution_count": 29,
   "metadata": {
    "colab": {
     "base_uri": "https://localhost:8080/"
    },
    "id": "Z_WP_XGqpIfL",
    "outputId": "cb6ead7b-45ab-4025-d572-e621a79fe817"
   },
   "outputs": [
    {
     "name": "stdout",
     "output_type": "stream",
     "text": [
      "The Default-free option price after a monthly rate increase of 25 bps is: 3.737\n",
      "Default-free option price standard deviation after a monthly rate increase of 25 bps is: 0.006\n"
     ]
    }
   ],
   "source": [
    "option_price_est, option_std_est, _ = option_price(S0, K, L, r_sim, cva_adjust=False)\n",
    "print(\"The Default-free option price after a monthly rate increase of 25 bps is: {:.3f}\".format(option_price_est))\n",
    "print(\"Default-free option price standard deviation after a monthly rate increase of 25 bps is: {:.3f}\".format(option_std_est))"
   ]
  },
  {
   "cell_type": "code",
   "execution_count": 30,
   "metadata": {
    "colab": {
     "base_uri": "https://localhost:8080/"
    },
    "id": "5SArZqxWpIfM",
    "outputId": "8db49ce0-45ee-4d8e-8a3f-53ba4bf41b69"
   },
   "outputs": [
    {
     "name": "stdout",
     "output_type": "stream",
     "text": [
      "CVA-adjusted option price after a monthly rate increase of 25 bps is: 3.626\n",
      "CVA-adjusted option price standard deviation after a monthly rate increase of 25 bps is: 0.005\n",
      "Credit value adjustment after a monthly rate increase of 25 bps is: 0.112\n"
     ]
    }
   ],
   "source": [
    "option_cva_adjusted_prices, option_cva_adjusted_std, cva_estimate = option_price(S0, K, L, r_sim, cva_adjust=True)\n",
    "print(\"CVA-adjusted option price after a monthly rate increase of 25 bps is: {:.3f}\".format(option_cva_adjusted_prices))\n",
    "print(\"CVA-adjusted option price standard deviation after a monthly rate increase of 25 bps is: {:.3f}\".format(option_cva_adjusted_std))\n",
    "print(\"Credit value adjustment after a monthly rate increase of 25 bps is: {:.3f}\".format(cva_estimate))"
   ]
  }
 ],
 "metadata": {
  "colab": {
   "name": "Group work Submission 3.ipynb",
   "provenance": []
  },
  "kernelspec": {
   "display_name": "Python 3",
   "language": "python",
   "name": "python3"
  },
  "language_info": {
   "codemirror_mode": {
    "name": "ipython",
    "version": 3
   },
   "file_extension": ".py",
   "mimetype": "text/x-python",
   "name": "python",
   "nbconvert_exporter": "python",
   "pygments_lexer": "ipython3",
   "version": "3.7.9"
  }
 },
 "nbformat": 4,
 "nbformat_minor": 4
}
